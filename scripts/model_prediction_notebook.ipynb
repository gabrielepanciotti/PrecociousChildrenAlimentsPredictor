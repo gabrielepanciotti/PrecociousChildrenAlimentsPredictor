{
 "cells": [
  {
   "cell_type": "code",
   "execution_count": 1,
   "id": "f4aec790",
   "metadata": {},
   "outputs": [
    {
     "ename": "ModuleNotFoundError",
     "evalue": "No module named 'sklearn'",
     "output_type": "error",
     "traceback": [
      "\u001b[1;31m---------------------------------------------------------------------------\u001b[0m",
      "\u001b[1;31mModuleNotFoundError\u001b[0m                       Traceback (most recent call last)",
      "Cell \u001b[1;32mIn[1], line 3\u001b[0m\n\u001b[0;32m      1\u001b[0m \u001b[38;5;28;01mimport\u001b[39;00m \u001b[38;5;21;01mpandas\u001b[39;00m \u001b[38;5;28;01mas\u001b[39;00m \u001b[38;5;21;01mpd\u001b[39;00m\n\u001b[0;32m      2\u001b[0m \u001b[38;5;28;01mimport\u001b[39;00m \u001b[38;5;21;01mnumpy\u001b[39;00m \u001b[38;5;28;01mas\u001b[39;00m \u001b[38;5;21;01mnp\u001b[39;00m\n\u001b[1;32m----> 3\u001b[0m \u001b[38;5;28;01mfrom\u001b[39;00m \u001b[38;5;21;01msklearn\u001b[39;00m\u001b[38;5;21;01m.\u001b[39;00m\u001b[38;5;21;01mmodel_selection\u001b[39;00m \u001b[38;5;28;01mimport\u001b[39;00m train_test_split\n\u001b[0;32m      4\u001b[0m \u001b[38;5;28;01mfrom\u001b[39;00m \u001b[38;5;21;01msklearn\u001b[39;00m\u001b[38;5;21;01m.\u001b[39;00m\u001b[38;5;21;01mpreprocessing\u001b[39;00m \u001b[38;5;28;01mimport\u001b[39;00m StandardScaler, MinMaxScaler, PCA\n\u001b[0;32m      5\u001b[0m \u001b[38;5;28;01mfrom\u001b[39;00m \u001b[38;5;21;01msklearn\u001b[39;00m\u001b[38;5;21;01m.\u001b[39;00m\u001b[38;5;21;01mlinear_model\u001b[39;00m \u001b[38;5;28;01mimport\u001b[39;00m LinearRegression\n",
      "\u001b[1;31mModuleNotFoundError\u001b[0m: No module named 'sklearn'"
     ]
    }
   ],
   "source": [
    "\n",
    "import pandas as pd\n",
    "import numpy as np\n",
    "from sklearn.model_selection import train_test_split\n",
    "from sklearn.preprocessing import StandardScaler, MinMaxScaler, PCA\n",
    "from sklearn.linear_model import LinearRegression\n",
    "from sklearn.ensemble import RandomForestRegressor\n",
    "from sklearn.metrics import mean_squared_error, mean_absolute_error, r2_score\n",
    "\n",
    "# Caricamento dei dati\n",
    "data = pd.read_csv('/path/to/your/dataset.csv', sep=';')  # Aggiorna con il tuo percorso\n",
    "\n",
    "# Definizione delle colonne\n",
    "peso_columns = ['Peso'] + [f'Peso_d-{i}' for i in range(1, 11)]\n",
    "variazione_columns = [f'daily_weight_diff_d-{i}' for i in range(1, 11)]\n",
    "nutrizione_columns = ['VolumeNE', 'ne_calkg', 'ne_chokg', 'ne_protkg', 'ne_lipkg', 'VolumeNP', 'np_calkg', 'np_chokg', 'np_protkg', 'np_lipkg'] \n",
    "nutrizione_storico_columns = [f'{col}_d-{i}' for col in nutrizione_columns for i in range(1, 11)]\n",
    "\n",
    "selected_columns = ['age', 'Etagest'] + peso_columns + variazione_columns + nutrizione_columns + nutrizione_storico_columns\n",
    "decimal_cols = ['Etagest', 'daily_weight_diff'] + peso_columns + variazione_columns + nutrizione_columns + nutrizione_storico_columns\n",
    "\n",
    "# Conversione delle colonne in float\n",
    "for col in decimal_cols:\n",
    "    if data[col].dtype == 'object':\n",
    "        data[col] = data[col].str.replace(',', '.').astype(float)\n",
    "    else:\n",
    "        data[col] = data[col].astype(float)\n",
    "\n",
    "# Selezione delle colonne rilevanti e divisione dei dati\n",
    "X = data[selected_columns]\n",
    "y = data['daily_weight_diff']\n",
    "X_train, X_test, y_train, y_test = train_test_split(X, y, test_size=0.2, random_state=42)\n",
    "\n",
    "# Standardizzazione dei dati\n",
    "scaler = StandardScaler()\n",
    "X_train_scaled = scaler.fit_transform(X_train)\n",
    "X_test_scaled = scaler.transform(X_test)\n",
    "\n",
    "# Applicazione della PCA\n",
    "pca = PCA(n_components=0.95)\n",
    "X_train_pca = pca.fit_transform(X_train_scaled)\n",
    "X_test_pca = pca.transform(X_test_scaled)\n",
    "\n",
    "# Definizione della funzione per valutare i modelli\n",
    "def evaluate_model(model, X_train, y_train, X_test, y_test):\n",
    "    model.fit(X_train, y_train)\n",
    "    y_pred = model.predict(X_test)\n",
    "    mse = mean_squared_error(y_test, y_pred)\n",
    "    mae = mean_absolute_error(y_test, y_pred)\n",
    "    r2 = r2_score(y_test, y_pred)\n",
    "    return mse, mae, r2\n",
    "\n",
    "# Inizializzazione dei modelli\n",
    "models = {\n",
    "    'Linear Regression': LinearRegression(),\n",
    "    'Random Forest': RandomForestRegressor(random_state=42)\n",
    "}\n",
    "\n",
    "# Valutazione dei modelli con e senza PCA\n",
    "results = []\n",
    "for name, model in models.items():\n",
    "    mse, mae, r2 = evaluate_model(model, X_train_scaled, y_train, X_test_scaled, y_test)\n",
    "    results.append((name, 'No PCA', mse, mae, r2))\n",
    "    mse_pca, mae_pca, r2_pca = evaluate_model(model, X_train_pca, y_train, X_test_pca, y_test)\n",
    "    results.append((name, 'With PCA', mse_pca, mae_pca, r2_pca))\n",
    "\n",
    "# Creazione della tabella riassuntiva\n",
    "results_df = pd.DataFrame(results, columns=['Model', 'PCA', 'MSE', 'MAE', 'R^2'])\n",
    "results_sorted = results_df.sort_values(by='MSE')\n",
    "results_sorted\n",
    "    "
   ]
  }
 ],
 "metadata": {
  "kernelspec": {
   "display_name": "Python 3",
   "language": "python",
   "name": "python3"
  },
  "language_info": {
   "codemirror_mode": {
    "name": "ipython",
    "version": 3
   },
   "file_extension": ".py",
   "mimetype": "text/x-python",
   "name": "python",
   "nbconvert_exporter": "python",
   "pygments_lexer": "ipython3",
   "version": "3.11.7"
  }
 },
 "nbformat": 4,
 "nbformat_minor": 5
}
